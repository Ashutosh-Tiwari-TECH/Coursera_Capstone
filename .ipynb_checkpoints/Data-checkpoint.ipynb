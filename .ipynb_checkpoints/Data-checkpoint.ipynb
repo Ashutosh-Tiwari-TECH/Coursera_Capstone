{
 "cells": [
  {
   "cell_type": "markdown",
   "metadata": {},
   "source": [
    "Data:\n",
    "This problem of finding the severity of the road accidents will be handled with the calssified model i.e. Decision Tree becouse we have the geo graphical coordinates, weather conditions , motor vehicle struck types, road conditions etc.\n",
    "which can help us about which timming the most of the accidents happened and what were the conditions when the scenario happened.The prediction of test data sets should be as high as possible and the false possitive should be as low as possible.\n"
   ]
  },
  {
   "cell_type": "code",
   "execution_count": null,
   "metadata": {},
   "outputs": [],
   "source": []
  }
 ],
 "metadata": {
  "kernelspec": {
   "display_name": "Python 3",
   "language": "python",
   "name": "python3"
  },
  "language_info": {
   "codemirror_mode": {
    "name": "ipython",
    "version": 3
   },
   "file_extension": ".py",
   "mimetype": "text/x-python",
   "name": "python",
   "nbconvert_exporter": "python",
   "pygments_lexer": "ipython3",
   "version": "3.7.6"
  }
 },
 "nbformat": 4,
 "nbformat_minor": 4
}
